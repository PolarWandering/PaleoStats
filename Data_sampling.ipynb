{
 "cells": [
  {
   "cell_type": "markdown",
   "id": "684ad7eb-baf0-4784-80b6-0a3fee8dabaa",
   "metadata": {},
   "source": [
    "# Paleomagnetic Sampling"
   ]
  },
  {
   "cell_type": "code",
   "execution_count": 11,
   "id": "ce635cdf-7dfd-4d16-9e05-2d7658271db1",
   "metadata": {},
   "outputs": [],
   "source": [
    "import numpy as np\n",
    "import pandas as pd\n",
    "import matplotlib.pyplot as plt\n",
    "\n",
    "import pmagpy.pmag as pmag\n",
    "import pmagpy.ipmag as ipmag"
   ]
  },
  {
   "cell_type": "markdown",
   "id": "f338151d-c81b-407d-86c3-8d8f273e93d0",
   "metadata": {},
   "source": [
    "## Setup \n",
    "\n",
    "Our goal is to estimate the paleomagnetic pole $\\mu$ for a given period of time or age. For doing so, we are going to recollec a number $N_k$ samples from $K$ different sites, $k=1,2,\\ldots,K$. For each site, consequence of secular variation, we are not observing directly $\\mu$, but instead $\\mu_k$ as a result of secular variations of the magnetic field. If we compute the Fisher mean $\\hat \\mu_k$ (the hat symbol will be used always for statistical inferences, in opposition to the _true_ value of the pole), then we hope that the new Fisher mean $\\hat \\mu$ of the $\\hat \\mu_k$s will give us a estimate for the paleomagnetic poles that will average out the secular variation. The question we are trying to address here is what is the best recollection design of the $N = N_1 + \\ldots + N_K$ sample poles that will lead to a better estimation of the final paleomagnetic pole $\\mu$. \n",
    "\n",
    "We are going to consider the following statistical model for how the sample poles are generated. \n",
    "$$\n",
    "\\mu_k \\sim \\text{Fisher}(\\mu, \\kappa_\\text{secular}) \\quad k=1,2,\\ldots,K\n",
    "$$\n",
    "$$\n",
    "x_{k,j} \\sim \\text{Fisher}(\\mu_k, \\kappa_\\text{vgp}) \\quad \\text{with probability $1-p$ and } \n",
    "$$\n",
    "$$\n",
    "x_{k,j} \\sim \\text{Unif}(S^2) \\quad \\text{otherwise} \\quad j=1,2,\\ldots,N_k,\n",
    "$$\n",
    "where $\\kappa_\\text{secular}$ and $\\kappa_\\text{vgp}$ are the dispersion parameters of the Fisher distribution. The parameter $p$ has been added to quantify the effect of outliers in the sampling process. With probability $1-p$ we are going to observe a verical sample of the magnetic field, while with probability $p$ our sample will be corrupted and instead we will observe an spourious medition, modelled by an uniform distribution on the sphere, that is, no information at all about the orientation of the true field. \n",
    "\n",
    "We are going to compare two different strategies for estimating the paleomagnetic pole $\\mu$:\n",
    "- Method 1: Compute the Fisher mean of ALL the sample points afor each site and then compute a second Fisher mean of these site vgps to obtain a final estimation of the true paleomagnetic pole.\n",
    "- Method 2: Assume we are perfectly able to detect outliers, so we can repeat Method 1 after removing those sample points that are clearly ourliers. \n",
    "\n",
    "Since we want to know what is the choice of $N_1, N_2, \\ldots, N_K$ that will lead to the best estimation of the paleomagnetic pole, we are going to compare these two methods for different strategies. For example, if $N_k$ is large enought then we may be in the case where we can use Method 2, and then we will compare it with the performance of Method 1 when $N_1 = \\ldots = N_K = 1$, for example."
   ]
  },
  {
   "cell_type": "code",
   "execution_count": null,
   "id": "61ef0d3c-5ed8-4eb6-b359-9e7e68198c96",
   "metadata": {},
   "outputs": [],
   "source": []
  },
  {
   "cell_type": "markdown",
   "id": "b40590ba-3b1b-4625-a57e-d522ea3a8a1d",
   "metadata": {},
   "source": [
    "## Sampling\n",
    "\n",
    "Without loss of generallity, we can assumer $\\mu=(0,0,1)$. "
   ]
  },
  {
   "cell_type": "code",
   "execution_count": 149,
   "id": "9cfb2995-0887-4e59-ae3a-4b5074849522",
   "metadata": {},
   "outputs": [],
   "source": [
    "from typing import NamedTuple\n",
    "\n",
    "class Params(NamedTuple):\n",
    "    \n",
    "    kappa_vgp : float    \n",
    "    kappa_secular : float \n",
    "    outlier_rate : float\n",
    "    N : int\n",
    "    \n",
    "params = Params(kappa_vgp=1000,\n",
    "                kappa_secular=10,\n",
    "                outlier_rate=0.1,\n",
    "                N=100)"
   ]
  },
  {
   "cell_type": "code",
   "execution_count": 160,
   "id": "c41b2248-29ed-47d7-914b-d580d844ceef",
   "metadata": {},
   "outputs": [],
   "source": [
    "def generate_design(n, n_site): \n",
    "    '''\n",
    "    Fuction to generate experimental design \n",
    "    \n",
    "    Arguments:\n",
    "        - n: total number of samples we are able to recollect\n",
    "        - n_site: number of samples per site (fixed and constant for all sites for now)\n",
    "        - p: value between [0,1] representing the probabilty of outlier. \n",
    "    Returns:\n",
    "        - List of number of samples needed to take per site\n",
    "    '''\n",
    "    equal_template = np.array([n_site] * int(n/n_site))\n",
    "    equal_template[:n%n_site] += 1\n",
    "    assert np.sum(equal_template) == n\n",
    "    assert np.min(equal_template) >= n_site\n",
    "    assert np.max(equal_template) <= n_site+1\n",
    "    return equal_template\n",
    "    \n",
    "def generate_samples(n, n_site):\n",
    "\n",
    "    design = generate_design(n, n_site)\n",
    "    \n",
    "    # sample secular variations\n",
    "    secular_declinations, secular_inclinations = ipmag.fishrot(k=params.kappa_secular,\n",
    "                                                               n=len(design), \n",
    "                                                               dec=0, \n",
    "                                                               inc=90, \n",
    "                                                               di_block=False)\n",
    "    \n",
    "    for i, nk in enumerate(design):\n",
    "        outliers = np.random.binomial(1, params.outlier_rate, nk)\n",
    "        outliers = sorted(outliers)\n",
    "        n_outliers = np.sum(outliers)\n",
    "        n_samples = nk - n_outliers\n",
    "        \n",
    "        # Sample real samples \n",
    "        declinations, inclinations = ipmag.fishrot(k=params.kappa_vgp, \n",
    "                                                   n=n_samples,\n",
    "                                                   dec=secular_declinations[i],\n",
    "                                                   inc=secular_inclinations[i],\n",
    "                                                   di_block=False)\n",
    "        \n",
    "        # Sample outliers \n",
    "        declinations_out, inclinations_out = pmag.get_unf(n_outliers).T\n",
    "        \n",
    "        declinations = np.concatenate((declinations, declinations_out))\n",
    "        inclinations = np.concatenate((inclinations, inclinations_out))\n",
    "        \n",
    "        df_ = pd.DataFrame({'sample_site': i,\n",
    "                            'declination': declinations,\n",
    "                            'inclination': inclinations,\n",
    "                            'is_outlier': outliers})\n",
    "        if i==0:\n",
    "            df = df_\n",
    "        else:\n",
    "            df = pd.concat([df, df_], axis=0, ignore_index=True)\n",
    "            \n",
    "    return df"
   ]
  },
  {
   "cell_type": "code",
   "execution_count": 161,
   "id": "a6120696-88e3-463b-b196-c39371a0a4ef",
   "metadata": {},
   "outputs": [
    {
     "data": {
      "image/png": "[encoded data removed]",
      "text/plain": [
       "<Figure size 432x288 with 1 Axes>"
      ]
     },
     "metadata": {
      "needs_background": "light"
     },
     "output_type": "display_data"
    }
   ],
   "source": [
    "df_sample = generate_samples(30, 10)\n",
    "\n",
    "ipmag.plot_net(1)\n",
    "ipmag.plot_di(dec=df_sample.declination.values, inc=df_sample.inclination.values)"
   ]
  },
  {
   "cell_type": "code",
   "execution_count": 185,
   "id": "ac93abd6-df00-4929-94fc-90a5adb7bf62",
   "metadata": {},
   "outputs": [],
   "source": [
    "def estimate_pole(df_sample, ignore_outliers=False):\n",
    "    '''\n",
    "    Function to estimate the Fisher estimate for the paloemagnetic pole\n",
    "    '''\n",
    "    if ignore_outliers:\n",
    "        df = df_sample[df_sample.is_outlier==0]\n",
    "    else:\n",
    "        df = df_sample\n",
    "        \n",
    "    df_site = df.groupby('sample_site').apply(lambda row : pd.Series({'declination': ipmag.fisher_mean(dec=row.declination.values, inc=row.inclination.values)['dec'],\n",
    "                                                                      'inclination': ipmag.fisher_mean(dec=row.declination.values, inc=row.inclination.values)['inc']}))\n",
    "    \n",
    "    # Final fisher mean\n",
    "    pole_estimate = ipmag.fisher_mean(dec=df_site.declination.values, inc=df_site.inclination.values)\n",
    "        \n",
    "    return pole_estimate['dec'], pole_estimate['inc']"
   ]
  },
  {
   "cell_type": "code",
   "execution_count": 186,
   "id": "cf4e336d-78fb-4b04-bf25-dd66b2d2cfc1",
   "metadata": {},
   "outputs": [
    {
     "data": {
      "text/plain": [
       "(78.82648350060218, 68.74502790946941)"
      ]
     },
     "execution_count": 186,
     "metadata": {},
     "output_type": "execute_result"
    }
   ],
   "source": [
    "estimate_pole(df_sample, ignore_outliers=True)"
   ]
  },
  {
   "cell_type": "code",
   "execution_count": 166,
   "id": "c1cbbeb2-bba0-4a05-a013-b248402581c4",
   "metadata": {},
   "outputs": [
    {
     "data": {
      "text/plain": [
       "{'dec': 78.83180347268832,\n",
       " 'inc': 66.2303714217622,\n",
       " 'n': 30,\n",
       " 'r': 26.275298137360735,\n",
       " 'k': 7.785858055079625,\n",
       " 'alpha95': 10.077070034329378,\n",
       " 'csd': 29.028980121997357}"
      ]
     },
     "execution_count": 166,
     "metadata": {},
     "output_type": "execute_result"
    }
   ],
   "source": [
    "ipmag.fisher_mean(dec=df_sample.declination.values, inc=df_sample.inclination.values)"
   ]
  },
  {
   "cell_type": "code",
   "execution_count": null,
   "id": "dd160c9a-cdda-48f6-8c0b-d9faba039119",
   "metadata": {},
   "outputs": [],
   "source": []
  }
 ],
 "metadata": {
  "kernelspec": {
   "display_name": "Python [conda env:.conda-paleostats]",
   "language": "python",
   "name": "conda-env-.conda-paleostats-py"
  },
  "language_info": {
   "codemirror_mode": {
    "name": "ipython",
    "version": 3
   },
   "file_extension": ".py",
   "mimetype": "text/x-python",
   "name": "python",
   "nbconvert_exporter": "python",
   "pygments_lexer": "ipython3",
   "version": "3.10.2"
  }
 },
 "nbformat": 4,
 "nbformat_minor": 5
}
