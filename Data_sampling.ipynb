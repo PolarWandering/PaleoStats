{
 "cells": [
  {
   "cell_type": "markdown",
   "id": "684ad7eb-baf0-4784-80b6-0a3fee8dabaa",
   "metadata": {},
   "source": [
    "# Paleomagnetic Sampling"
   ]
  },
  {
   "cell_type": "code",
   "execution_count": 1,
   "id": "ce635cdf-7dfd-4d16-9e05-2d7658271db1",
   "metadata": {},
   "outputs": [],
   "source": [
    "import numpy as np\n",
    "import pandas as pd\n",
    "import matplotlib.pyplot as plt\n",
    "import seaborn as sns\n",
    "\n",
    "import pmagpy.pmag as pmag\n",
    "import pmagpy.ipmag as ipmag"
   ]
  },
  {
   "cell_type": "markdown",
   "id": "f338151d-c81b-407d-86c3-8d8f273e93d0",
   "metadata": {},
   "source": [
    "## Setup \n",
    "\n",
    "Our goal is to estimate the paleomagnetic pole $\\mu$ for a given period of time or age. For doing so, we are going to recollec a number $N_k$ samples from $K$ different sites, $k=1,2,\\ldots,K$. For each site, consequence of secular variation, we are not observing directly $\\mu$, but instead $\\mu_k$ as a result of secular variations of the magnetic field. If we compute the Fisher mean $\\hat \\mu_k$ (the hat symbol will be used always for statistical inferences, in opposition to the _true_ value of the pole), then we hope that the new Fisher mean $\\hat \\mu$ of the $\\hat \\mu_k$s will give us a estimate for the paleomagnetic poles that will average out the secular variation. The question we are trying to address here is what is the best recollection design of the $N = N_1 + \\ldots + N_K$ sample poles that will lead to a better estimation of the final paleomagnetic pole $\\mu$. \n",
    "\n",
    "We are going to consider the following statistical model for how the sample poles are generated. \n",
    "$$\n",
    "\\mu_k \\sim \\text{Fisher}(\\mu, \\kappa_\\text{secular}) \\quad k=1,2,\\ldots,K\n",
    "$$\n",
    "$$\n",
    "x_{k,j} \\sim \\text{Fisher}(\\mu_k, \\kappa_\\text{vgp}) \\quad \\text{with probability $1-p$ and } \n",
    "$$\n",
    "$$\n",
    "x_{k,j} \\sim \\text{Unif}(S^2) \\quad \\text{otherwise} \\quad j=1,2,\\ldots,N_k,\n",
    "$$\n",
    "where $\\kappa_\\text{secular}$ and $\\kappa_\\text{vgp}$ are the dispersion parameters of the Fisher distribution. The parameter $p$ has been added to quantify the effect of outliers in the sampling process. With probability $1-p$ we are going to observe a verical sample of the magnetic field, while with probability $p$ our sample will be corrupted and instead we will observe an spourious medition, modelled by an uniform distribution on the sphere, that is, no information at all about the orientation of the true field. \n",
    "\n",
    "We are going to compare two different strategies for estimating the paleomagnetic pole $\\mu$:\n",
    "- Method 1: Compute the Fisher mean of ALL the sample points afor each site and then compute a second Fisher mean of these site vgps to obtain a final estimation of the true paleomagnetic pole.\n",
    "- Method 2: Assume we are perfectly able to detect outliers, so we can repeat Method 1 after removing those sample points that are clearly ourliers. \n",
    "\n",
    "Since we want to know what is the choice of $N_1, N_2, \\ldots, N_K$ that will lead to the best estimation of the paleomagnetic pole, we are going to compare these two methods for different strategies. For example, if $N_k$ is large enought then we may be in the case where we can use Method 2, and then we will compare it with the performance of Method 1 when $N_1 = \\ldots = N_K = 1$, for example."
   ]
  },
  {
   "cell_type": "markdown",
   "id": "b40590ba-3b1b-4625-a57e-d522ea3a8a1d",
   "metadata": {},
   "source": [
    "## Sampling\n",
    "\n",
    "Without loss of generallity, we can assumer $\\mu=(0,0,1)$. "
   ]
  },
  {
   "cell_type": "code",
   "execution_count": 44,
   "id": "9cfb2995-0887-4e59-ae3a-4b5074849522",
   "metadata": {},
   "outputs": [],
   "source": [
    "from typing import NamedTuple\n",
    "\n",
    "class Params(NamedTuple):\n",
    "    \n",
    "    kappa_vgp : float    \n",
    "    kappa_secular : float \n",
    "    outlier_rate : float\n",
    "    N_per_site: int\n",
    "    N : int"
   ]
  },
  {
   "cell_type": "code",
   "execution_count": 45,
   "id": "c41b2248-29ed-47d7-914b-d580d844ceef",
   "metadata": {},
   "outputs": [],
   "source": [
    "def generate_design(params): \n",
    "    \n",
    "    equal_template = np.array([params.N_per_site] * int(params.N/params.N_per_site))\n",
    "    equal_template[:params.N % params.N_per_site] += 1\n",
    "    assert np.sum(equal_template) == params.N, 'this happens because there is no way of keeping the right sampling'\n",
    "    assert np.min(equal_template) >= params.N_per_site\n",
    "    assert np.max(equal_template) <= params.N_per_site+1\n",
    "    return equal_template\n",
    "    \n",
    "def generate_samples(params):\n",
    "    '''\n",
    "    Fuction to generate experimental design \n",
    "    \n",
    "    Arguments:\n",
    "        - n: total number of samples we are able to recollect\n",
    "        - n_site: number of samples per site (fixed and constant for all sites for now)\n",
    "        - p: value between [0,1] representing the probabilty of outlier. \n",
    "    Returns:\n",
    "        - List of number of samples needed to take per site\n",
    "    '''\n",
    "    \n",
    "    design = generate_design(params)\n",
    "    N_sites = len(design)\n",
    "    \n",
    "    # sample secular variations\n",
    "    secular_declinations, secular_inclinations = ipmag.fishrot(k=params.kappa_secular,\n",
    "                                                               n=N_sites, \n",
    "                                                               dec=0, \n",
    "                                                               inc=90, \n",
    "                                                               di_block=False)\n",
    "    \n",
    "    for i, nk in enumerate(design):\n",
    "        outliers = np.random.binomial(1, params.outlier_rate, nk)\n",
    "        outliers = sorted(outliers)\n",
    "        n_outliers = np.sum(outliers)\n",
    "        n_samples = nk - n_outliers\n",
    "        \n",
    "        # Sample real samples \n",
    "        declinations, inclinations = ipmag.fishrot(k=params.kappa_vgp, \n",
    "                                                   n=n_samples,\n",
    "                                                   dec=secular_declinations[i],\n",
    "                                                   inc=secular_inclinations[i],\n",
    "                                                   di_block=False)\n",
    "        \n",
    "        # Sample outliers \n",
    "        declinations_out, inclinations_out = pmag.get_unf(n_outliers).T\n",
    "        \n",
    "        declinations = np.concatenate((declinations, declinations_out))\n",
    "        inclinations = np.concatenate((inclinations, inclinations_out))\n",
    "        \n",
    "        df_ = pd.DataFrame({'sample_site': i,\n",
    "                            'declination': declinations,\n",
    "                            'inclination': inclinations,\n",
    "                            'is_outlier': outliers})\n",
    "        if i==0:\n",
    "            df = df_\n",
    "        else:\n",
    "            df = pd.concat([df, df_], axis=0, ignore_index=True)\n",
    "            \n",
    "    return df"
   ]
  },
  {
   "cell_type": "code",
   "execution_count": 46,
   "id": "a6120696-88e3-463b-b196-c39371a0a4ef",
   "metadata": {},
   "outputs": [
    {
     "data": {
      "image/png": "[encoded data removed]",
      "text/plain": [
       "<Figure size 432x288 with 1 Axes>"
      ]
     },
     "metadata": {
      "needs_background": "light"
     },
     "output_type": "display_data"
    }
   ],
   "source": [
    "params0 = Params(kappa_vgp=1000,\n",
    "                kappa_secular=10,\n",
    "                outlier_rate=0.1,\n",
    "                N_per_site=6,\n",
    "                N=25)\n",
    "\n",
    "df_sample = generate_samples(params0)\n",
    "\n",
    "ipmag.plot_net(1)\n",
    "ipmag.plot_di(dec=df_sample.declination.values, inc=df_sample.inclination.values)"
   ]
  },
  {
   "cell_type": "code",
   "execution_count": 47,
   "id": "ac93abd6-df00-4929-94fc-90a5adb7bf62",
   "metadata": {},
   "outputs": [],
   "source": [
    "### ipmag doesn't return the Fisher mean when the sample has just one point!!!\n",
    "def robust_fisher_mean(decs, incs):\n",
    "    assert len(decs) == len(incs)\n",
    "    if len(decs) == 1:\n",
    "        return decs[0], incs[0]\n",
    "    else:\n",
    "        pole_mean = ipmag.fisher_mean(dec=decs, inc=incs)\n",
    "        return pole_mean['dec'], pole_mean['inc']\n",
    "    \n",
    "\n",
    "def estimate_pole(df_sample, ignore_outliers=False):\n",
    "    '''\n",
    "    Function to estimate the Fisher estimate for the paloemagnetic pole\n",
    "    '''\n",
    "    if ignore_outliers:\n",
    "        df = df_sample[df_sample.is_outlier==0]\n",
    "    else:\n",
    "        df = df_sample\n",
    "    \n",
    "    #df_site = df.groupby('sample_site').apply(lambda row : pd.Series({'declination': ipmag.fisher_mean(dec=row.declination.values, inc=row.inclination.values)['dec'],\n",
    "    #                                                                  'inclination': ipmag.fisher_mean(dec=row.declination.values, inc=row.inclination.values)['inc']}))\n",
    "    df_site = df.groupby('sample_site').apply(lambda row : pd.Series({'declination': robust_fisher_mean(row.declination.values, row.inclination.values)[0],\n",
    "                                                                      'inclination': robust_fisher_mean(row.declination.values, row.inclination.values)[1],\n",
    "                                                                      'n_samples': len(row.declination.values)}))\n",
    "    \n",
    "    # Final fisher mean\n",
    "    pole_estimate = ipmag.fisher_mean(dec=df_site.declination.values, inc=df_site.inclination.values)\n",
    "        \n",
    "    return pole_estimate['dec'], pole_estimate['inc'], df_site.n_samples.sum()"
   ]
  },
  {
   "cell_type": "code",
   "execution_count": 13,
   "id": "cf4e336d-78fb-4b04-bf25-dd66b2d2cfc1",
   "metadata": {},
   "outputs": [],
   "source": [
    "def simulate_estimations(params, n_iters=100, ignore_outliers=False):\n",
    "\n",
    "    poles_dec, poles_inc, all_total_samples = [], [], []\n",
    "\n",
    "    for _ in range(n_iters):\n",
    "\n",
    "        df_sample = generate_samples(params)\n",
    "        pole_dec, pole_inc, total_samples = estimate_pole(df_sample, ignore_outliers=ignore_outliers)\n",
    "        poles_dec.append(pole_dec)\n",
    "        poles_inc.append(pole_inc)\n",
    "        all_total_samples.append(total_samples)\n",
    "\n",
    "    df_poles = pd.DataFrame({'declination': poles_dec, \n",
    "                             'inclination': poles_inc, \n",
    "                             'total_samples': all_total_samples})\n",
    "    df_poles['error_angle'] = 90.0 - df_poles.inclination\n",
    "    \n",
    "    return df_poles"
   ]
  },
  {
   "cell_type": "code",
   "execution_count": 40,
   "id": "dd160c9a-cdda-48f6-8c0b-d9faba039119",
   "metadata": {},
   "outputs": [
    {
     "name": "stdout",
     "output_type": "stream",
     "text": [
      "CPU times: user 1min 26s, sys: 43.4 ms, total: 1min 26s\n",
      "Wall time: 1min 26s\n"
     ]
    }
   ],
   "source": [
    "%%time\n",
    "\n",
    "kappa_vgp = 10\n",
    "kappa_secular = 1\n",
    "outlier_rate = 0.2\n",
    "N = 100\n",
    "n_iters = 500\n",
    "\n",
    "params1 = Params(kappa_vgp=kappa_vgp,\n",
    "                 kappa_secular=kappa_secular,\n",
    "                 outlier_rate=outlier_rate,\n",
    "                 N_per_site=7,\n",
    "                 N=N)\n",
    "\n",
    "params2 = Params(kappa_vgp=kappa_vgp,\n",
    "                 kappa_secular=kappa_secular,\n",
    "                 outlier_rate=outlier_rate,\n",
    "                 N_per_site=1,\n",
    "                 N=N)\n",
    "\n",
    "df_standard = simulate_estimations(params1, n_iters=n_iters, ignore_outliers=True)\n",
    "df_simple_sample = simulate_estimations(params2, n_iters=n_iters, ignore_outliers=False)"
   ]
  },
  {
   "cell_type": "code",
   "execution_count": 43,
   "id": "bf159035-e582-4f94-bc9d-122fc0e5b0d0",
   "metadata": {},
   "outputs": [
    {
     "data": {
      "text/plain": [
       "Text(0.65, 0.95, '$RMSE Method 1=29.57$\\n$RMSE Method 2=21.12$')"
      ]
     },
     "execution_count": 43,
     "metadata": {},
     "output_type": "execute_result"
    },
    {
     "data": {
      "image/png": "[encoded data removed]",
      "text/plain": [
       "<Figure size 720x576 with 1 Axes>"
      ]
     },
     "metadata": {
      "needs_background": "light"
     },
     "output_type": "display_data"
    }
   ],
   "source": [
    "fig, axes = plt.subplots(nrows=1, ncols=1, figsize=(10,8))\n",
    "\n",
    "sns.histplot(df_standard.error_angle, ax=axes, color='#e84118', stat='probability', binwidth=5, binrange=(0,90), alpha=.7)\n",
    "sns.histplot(df_simple_sample.error_angle, ax=axes, color='#0097e6', stat='probability', binwidth=5, binrange=(0,90), alpha=.7)\n",
    "\n",
    "\n",
    "textstr = '\\n'.join((\n",
    "r'$RMSE Method 1=%.2f$' % (np.linalg.norm(df_standard.error_angle)**0.5, ),\n",
    "r'$RMSE Method 2=%.2f$' % (np.linalg.norm(df_simple_sample.error_angle)**0.5, )))\n",
    "props = dict(boxstyle='round', facecolor='wheat', alpha=0.5)\n",
    "# place a text box in upper left in axes coords\n",
    "plt.text(0.65, 0.95, textstr, transform=axes.transAxes, fontsize=14,\n",
    "        verticalalignment='top', bbox=props)"
   ]
  },
  {
   "cell_type": "code",
   "execution_count": null,
   "id": "a913f998-57a3-4570-bf15-33a79b97d2a0",
   "metadata": {},
   "outputs": [],
   "source": []
  }
 ],
 "metadata": {
  "kernelspec": {
   "display_name": "Python [conda env:.conda-paleostats]",
   "language": "python",
   "name": "conda-env-.conda-paleostats-py"
  },
  "language_info": {
   "codemirror_mode": {
    "name": "ipython",
    "version": 3
   },
   "file_extension": ".py",
   "mimetype": "text/x-python",
   "name": "python",
   "nbconvert_exporter": "python",
   "pygments_lexer": "ipython3",
   "version": "3.10.2"
  }
 },
 "nbformat": 4,
 "nbformat_minor": 5
}
