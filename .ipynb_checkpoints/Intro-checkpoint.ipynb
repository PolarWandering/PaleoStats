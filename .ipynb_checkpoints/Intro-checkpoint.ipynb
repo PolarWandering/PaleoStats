{
 "cells": [
  {
   "cell_type": "markdown",
   "id": "92aa63ce-c1e5-4f20-9d6c-fd2a5f875e73",
   "metadata": {},
   "source": [
    "## Data preprocessing and visualization"
   ]
  },
  {
   "cell_type": "code",
   "execution_count": 2,
   "id": "e21f2619-d073-40e7-927a-53d23923ad4b",
   "metadata": {},
   "outputs": [],
   "source": [
    "import pandas as pd\n",
    "import numpy as np\n",
    "import matplotlib.pyplot as plt\n",
    "import seaborn as sns\n",
    "import cartopy.crs as ccrs\n",
    "import pmagpy.ipmag as ipmag\n",
    "\n",
    "from utils.geometry import cartesian2spherical, spherical2cartesian\n",
    "from utils.smooth import running_mean_APWP"
   ]
  },
  {
   "cell_type": "code",
   "execution_count": 3,
   "id": "24402925-88b1-4a83-85ca-1f4fb86d07a9",
   "metadata": {},
   "outputs": [],
   "source": [
    "max_age = 130   # Maximum ages in the past to explore"
   ]
  },
  {
   "cell_type": "code",
   "execution_count": 4,
   "id": "3720c29c-067f-4f30-8882-87b55d428ee5",
   "metadata": {},
   "outputs": [
    {
     "data": {
      "text/html": [
       "<div>\n",
       "<style scoped>\n",
       "    .dataframe tbody tr th:only-of-type {\n",
       "        vertical-align: middle;\n",
       "    }\n",
       "\n",
       "    .dataframe tbody tr th {\n",
       "        vertical-align: top;\n",
       "    }\n",
       "\n",
       "    .dataframe thead th {\n",
       "        text-align: right;\n",
       "    }\n",
       "</style>\n",
       "<table border=\"1\" class=\"dataframe\">\n",
       "  <thead>\n",
       "    <tr style=\"text-align: right;\">\n",
       "      <th></th>\n",
       "      <th>Q</th>\n",
       "      <th>a95</th>\n",
       "      <th>Plate</th>\n",
       "      <th>Plate_code</th>\n",
       "      <th>Lat</th>\n",
       "      <th>Lon</th>\n",
       "      <th>CLat</th>\n",
       "      <th>CLon</th>\n",
       "      <th>RLat</th>\n",
       "      <th>RLon</th>\n",
       "      <th>Eplat</th>\n",
       "      <th>Eplong</th>\n",
       "      <th>Epang</th>\n",
       "      <th>Age</th>\n",
       "      <th>x</th>\n",
       "      <th>y</th>\n",
       "      <th>z</th>\n",
       "    </tr>\n",
       "  </thead>\n",
       "  <tbody>\n",
       "    <tr>\n",
       "      <th>0</th>\n",
       "      <td>5</td>\n",
       "      <td>4.8</td>\n",
       "      <td>north_america</td>\n",
       "      <td>101</td>\n",
       "      <td>-86.3</td>\n",
       "      <td>5.7</td>\n",
       "      <td>NaN</td>\n",
       "      <td>NaN</td>\n",
       "      <td>-86.3</td>\n",
       "      <td>5.7</td>\n",
       "      <td>NaN</td>\n",
       "      <td>NaN</td>\n",
       "      <td>NaN</td>\n",
       "      <td>0.5</td>\n",
       "      <td>0.064213</td>\n",
       "      <td>0.006409</td>\n",
       "      <td>-0.997916</td>\n",
       "    </tr>\n",
       "    <tr>\n",
       "      <th>1</th>\n",
       "      <td>5</td>\n",
       "      <td>9.1</td>\n",
       "      <td>north_america</td>\n",
       "      <td>101</td>\n",
       "      <td>-86.4</td>\n",
       "      <td>8.4</td>\n",
       "      <td>NaN</td>\n",
       "      <td>NaN</td>\n",
       "      <td>-86.4</td>\n",
       "      <td>9.2</td>\n",
       "      <td>79.2</td>\n",
       "      <td>23.0</td>\n",
       "      <td>0.2</td>\n",
       "      <td>0.8</td>\n",
       "      <td>0.061983</td>\n",
       "      <td>0.010039</td>\n",
       "      <td>-0.998027</td>\n",
       "    </tr>\n",
       "    <tr>\n",
       "      <th>2</th>\n",
       "      <td>5</td>\n",
       "      <td>7.1</td>\n",
       "      <td>north_america</td>\n",
       "      <td>101</td>\n",
       "      <td>-85.3</td>\n",
       "      <td>265.9</td>\n",
       "      <td>NaN</td>\n",
       "      <td>NaN</td>\n",
       "      <td>-85.3</td>\n",
       "      <td>-94.1</td>\n",
       "      <td>79.9</td>\n",
       "      <td>22.7</td>\n",
       "      <td>0.3</td>\n",
       "      <td>1.0</td>\n",
       "      <td>-0.005858</td>\n",
       "      <td>-0.081729</td>\n",
       "      <td>-0.996637</td>\n",
       "    </tr>\n",
       "    <tr>\n",
       "      <th>3</th>\n",
       "      <td>5</td>\n",
       "      <td>8.7</td>\n",
       "      <td>north_america</td>\n",
       "      <td>101</td>\n",
       "      <td>-88.4</td>\n",
       "      <td>225.5</td>\n",
       "      <td>NaN</td>\n",
       "      <td>NaN</td>\n",
       "      <td>-88.4</td>\n",
       "      <td>-135.7</td>\n",
       "      <td>79.9</td>\n",
       "      <td>22.7</td>\n",
       "      <td>0.3</td>\n",
       "      <td>1.0</td>\n",
       "      <td>-0.019983</td>\n",
       "      <td>-0.019501</td>\n",
       "      <td>-0.999610</td>\n",
       "    </tr>\n",
       "    <tr>\n",
       "      <th>4</th>\n",
       "      <td>5</td>\n",
       "      <td>4.3</td>\n",
       "      <td>north_america</td>\n",
       "      <td>101</td>\n",
       "      <td>-88.9</td>\n",
       "      <td>285.0</td>\n",
       "      <td>NaN</td>\n",
       "      <td>NaN</td>\n",
       "      <td>-88.9</td>\n",
       "      <td>-75.1</td>\n",
       "      <td>79.9</td>\n",
       "      <td>22.7</td>\n",
       "      <td>0.3</td>\n",
       "      <td>1.0</td>\n",
       "      <td>0.004936</td>\n",
       "      <td>-0.018552</td>\n",
       "      <td>-0.999816</td>\n",
       "    </tr>\n",
       "  </tbody>\n",
       "</table>\n",
       "</div>"
      ],
      "text/plain": [
       "   Q  a95          Plate  Plate_code   Lat    Lon  CLat  CLon  RLat   RLon  \\\n",
       "0  5  4.8  north_america         101 -86.3    5.7   NaN   NaN -86.3    5.7   \n",
       "1  5  9.1  north_america         101 -86.4    8.4   NaN   NaN -86.4    9.2   \n",
       "2  5  7.1  north_america         101 -85.3  265.9   NaN   NaN -85.3  -94.1   \n",
       "3  5  8.7  north_america         101 -88.4  225.5   NaN   NaN -88.4 -135.7   \n",
       "4  5  4.3  north_america         101 -88.9  285.0   NaN   NaN -88.9  -75.1   \n",
       "\n",
       "   Eplat  Eplong  Epang  Age         x         y         z  \n",
       "0    NaN     NaN    NaN  0.5  0.064213  0.006409 -0.997916  \n",
       "1   79.2    23.0    0.2  0.8  0.061983  0.010039 -0.998027  \n",
       "2   79.9    22.7    0.3  1.0 -0.005858 -0.081729 -0.996637  \n",
       "3   79.9    22.7    0.3  1.0 -0.019983 -0.019501 -0.999610  \n",
       "4   79.9    22.7    0.3  1.0  0.004936 -0.018552 -0.999816  "
      ]
     },
     "execution_count": 4,
     "metadata": {},
     "output_type": "execute_result"
    }
   ],
   "source": [
    "df = pd.read_csv('data/Torsvik-etal-2012_dataset.csv', encoding=\"cp1254\")\n",
    "df = df[df.Age < max_age]\n",
    "\n",
    "# For PPs in African coordinate system, we just replace the actual latitude and longitude \n",
    "df.RLat.fillna(df.Lat, inplace=True)\n",
    "df.RLon.fillna(df.Lon, inplace=True)\n",
    "\n",
    "# Add cartesian coordinates\n",
    "df['x'] = df.apply(lambda row: spherical2cartesian([np.radians(row[\"RLat\"]), np.radians(row.RLon)])[0], axis=1) \n",
    "df['y'] = df.apply(lambda row: spherical2cartesian([np.radians(row[\"RLat\"]), np.radians(row.RLon)])[1], axis=1) \n",
    "df['z'] = df.apply(lambda row: spherical2cartesian([np.radians(row[\"RLat\"]), np.radians(row.RLon)])[2], axis=1) \n",
    "\n",
    "df.head()"
   ]
  },
  {
   "cell_type": "markdown",
   "id": "35320ad0-f186-460f-8ec4-4285a6909ef8",
   "metadata": {},
   "source": [
    "We can see which are the sites on the globe where more studies where perform:"
   ]
  },
  {
   "cell_type": "code",
   "execution_count": 5,
   "id": "a2574976-b68b-40a9-94e8-f1ebc2fc03c0",
   "metadata": {},
   "outputs": [
    {
     "data": {
      "text/plain": [
       "north_america       66\n",
       "europe              29\n",
       "East_Gondwana       16\n",
       "Northeast_Africa    16\n",
       "greenland           11\n",
       "Somalia             10\n",
       "Amazonia            10\n",
       "Madagascar           9\n",
       "Northwest_Africa     5\n",
       "East_Antarctica      4\n",
       "Patagonia            4\n",
       "Parana               4\n",
       "Arabia               3\n",
       "Australia            3\n",
       "Southern_Africa      2\n",
       "Colorado             1\n",
       "Meseta               1\n",
       "Name: Plate, dtype: int64"
      ]
     },
     "execution_count": 5,
     "metadata": {},
     "output_type": "execute_result"
    }
   ],
   "source": [
    "df.Plate.value_counts()"
   ]
  },
  {
   "cell_type": "markdown",
   "id": "b0737c3a-1e4f-4440-bd63-97f4cf240e08",
   "metadata": {},
   "source": [
    "We can plot the set of all paleomagnetic poles. We can see that the dispersion is quite large, and it is not simple to see an obvious patter. However, we can see how the poles get apart of the south pole as we go backwards in time. "
   ]
  },
  {
   "cell_type": "code",
   "execution_count": 6,
   "id": "4f0106da-eb78-4b58-af5a-d7257fc68324",
   "metadata": {},
   "outputs": [
    {
     "data": {
      "image/png": "[encoded data removed]",
      "text/plain": [
       "<Figure size 432x288 with 1 Axes>"
      ]
     },
     "metadata": {
      "needs_background": "light"
     },
     "output_type": "display_data"
    }
   ],
   "source": [
    "ax = plt.axes(projection=ccrs.Orthographic(central_latitude=-90))\n",
    "\n",
    "ax.coastlines()\n",
    "ax.gridlines()\n",
    "\n",
    "sns.scatterplot(ax=ax, x = df['RLon'], y = df['RLat'], \n",
    "                hue = df['Age'], s=100,\n",
    "                palette=\"viridis\",\n",
    "                transform = ccrs.PlateCarree());\n",
    "\n",
    "#plt.savefig(\"PPs.pdf\", format=\"pdf\", bbox_inches=\"tight\")"
   ]
  },
  {
   "cell_type": "markdown",
   "id": "aa248852-cd3d-4b0a-84cc-88746c696200",
   "metadata": {},
   "source": [
    "Now, we can define a running mean that averages the PPs around their Fisherian mean on the sphere"
   ]
  },
  {
   "cell_type": "code",
   "execution_count": 11,
   "id": "830b50cf-7eb3-4a1c-bab9-0bc4f6e5cad2",
   "metadata": {},
   "outputs": [
    {
     "data": {
      "text/html": [
       "<div>\n",
       "<style scoped>\n",
       "    .dataframe tbody tr th:only-of-type {\n",
       "        vertical-align: middle;\n",
       "    }\n",
       "\n",
       "    .dataframe tbody tr th {\n",
       "        vertical-align: top;\n",
       "    }\n",
       "\n",
       "    .dataframe thead th {\n",
       "        text-align: right;\n",
       "    }\n",
       "</style>\n",
       "<table border=\"1\" class=\"dataframe\">\n",
       "  <thead>\n",
       "    <tr style=\"text-align: right;\">\n",
       "      <th></th>\n",
       "      <th>Age</th>\n",
       "      <th>N</th>\n",
       "      <th>a95</th>\n",
       "      <th>RLon</th>\n",
       "      <th>RLat</th>\n",
       "    </tr>\n",
       "  </thead>\n",
       "  <tbody>\n",
       "    <tr>\n",
       "      <th>0</th>\n",
       "      <td>0.0</td>\n",
       "      <td>35.0</td>\n",
       "      <td>1.648784</td>\n",
       "      <td>340.213364</td>\n",
       "      <td>-87.177248</td>\n",
       "    </tr>\n",
       "    <tr>\n",
       "      <th>5</th>\n",
       "      <td>5.0</td>\n",
       "      <td>45.0</td>\n",
       "      <td>1.825821</td>\n",
       "      <td>346.128019</td>\n",
       "      <td>-86.233805</td>\n",
       "    </tr>\n",
       "    <tr>\n",
       "      <th>10</th>\n",
       "      <td>10.0</td>\n",
       "      <td>49.0</td>\n",
       "      <td>1.825078</td>\n",
       "      <td>349.513231</td>\n",
       "      <td>-86.377415</td>\n",
       "    </tr>\n",
       "    <tr>\n",
       "      <th>15</th>\n",
       "      <td>15.0</td>\n",
       "      <td>33.0</td>\n",
       "      <td>2.494419</td>\n",
       "      <td>349.739774</td>\n",
       "      <td>-84.714787</td>\n",
       "    </tr>\n",
       "    <tr>\n",
       "      <th>20</th>\n",
       "      <td>20.0</td>\n",
       "      <td>31.0</td>\n",
       "      <td>2.605800</td>\n",
       "      <td>356.972852</td>\n",
       "      <td>-83.497311</td>\n",
       "    </tr>\n",
       "  </tbody>\n",
       "</table>\n",
       "</div>"
      ],
      "text/plain": [
       "     Age     N       a95        RLon       RLat\n",
       "0    0.0  35.0  1.648784  340.213364 -87.177248\n",
       "5    5.0  45.0  1.825821  346.128019 -86.233805\n",
       "10  10.0  49.0  1.825078  349.513231 -86.377415\n",
       "15  15.0  33.0  2.494419  349.739774 -84.714787\n",
       "20  20.0  31.0  2.605800  356.972852 -83.497311"
      ]
     },
     "execution_count": 11,
     "metadata": {},
     "output_type": "execute_result"
    }
   ],
   "source": [
    "df_RM = running_mean_APWP(df, 20, 5, max_age, 0)\n",
    "df_RM.head(5)"
   ]
  },
  {
   "cell_type": "code",
   "execution_count": 12,
   "id": "cc6646e6-a045-4f85-81e0-6f960e4b9283",
   "metadata": {},
   "outputs": [
    {
     "ename": "AttributeError",
     "evalue": "can't set attribute 'threshold'",
     "output_type": "error",
     "traceback": [
      "\u001b[0;31m---------------------------------------------------------------------------\u001b[0m",
      "\u001b[0;31mAttributeError\u001b[0m                            Traceback (most recent call last)",
      "Input \u001b[0;32mIn [12]\u001b[0m, in \u001b[0;36m<cell line: 1>\u001b[0;34m()\u001b[0m\n\u001b[0;32m----> 1\u001b[0m map_axis \u001b[38;5;241m=\u001b[39m \u001b[43mipmag\u001b[49m\u001b[38;5;241;43m.\u001b[39;49m\u001b[43mmake_orthographic_map\u001b[49m\u001b[43m(\u001b[49m\u001b[43mcentral_longitude\u001b[49m\u001b[38;5;241;43m=\u001b[39;49m\u001b[38;5;241;43m0\u001b[39;49m\u001b[43m,\u001b[49m\u001b[43m \u001b[49m\u001b[43mcentral_latitude\u001b[49m\u001b[38;5;241;43m=\u001b[39;49m\u001b[38;5;241;43m-\u001b[39;49m\u001b[38;5;241;43m90\u001b[39;49m\u001b[43m,\u001b[49m\u001b[43m \u001b[49m\u001b[43mfigsize\u001b[49m\u001b[38;5;241;43m=\u001b[39;49m\u001b[43m(\u001b[49m\u001b[38;5;241;43m10\u001b[39;49m\u001b[43m,\u001b[49m\u001b[38;5;241;43m10\u001b[39;49m\u001b[43m)\u001b[49m\u001b[43m)\u001b[49m\n\u001b[1;32m      3\u001b[0m ipmag\u001b[38;5;241m.\u001b[39mplot_poles_colorbar(map_axis, df_RM\u001b[38;5;241m.\u001b[39mRLon\u001b[38;5;241m.\u001b[39mtolist(), df_RM\u001b[38;5;241m.\u001b[39mRLat\u001b[38;5;241m.\u001b[39mtolist(), \n\u001b[1;32m      4\u001b[0m                  df_RM\u001b[38;5;241m.\u001b[39ma95\u001b[38;5;241m.\u001b[39mtolist(), df_RM\u001b[38;5;241m.\u001b[39mAge\u001b[38;5;241m.\u001b[39mtolist(),\u001b[38;5;241m0\u001b[39m,max_age)\n\u001b[1;32m      5\u001b[0m plt\u001b[38;5;241m.\u001b[39mtitle(\u001b[38;5;124m'\u001b[39m\u001b[38;5;124mrunning mean APWP (20 Myr window)\u001b[39m\u001b[38;5;124m'\u001b[39m)\n",
      "File \u001b[0;32m~/.local/lib/python3.10/site-packages/pmagpy/ipmag.py:1759\u001b[0m, in \u001b[0;36mmake_orthographic_map\u001b[0;34m(central_longitude, central_latitude, figsize, add_land, land_color, land_edge_color, add_ocean, ocean_color, grid_lines, lat_grid, lon_grid)\u001b[0m\n\u001b[1;32m   1757\u001b[0m     \u001b[38;5;28;01mreturn\u001b[39;00m\n\u001b[1;32m   1758\u001b[0m fig \u001b[38;5;241m=\u001b[39m plt\u001b[38;5;241m.\u001b[39mfigure(figsize\u001b[38;5;241m=\u001b[39mfigsize)\n\u001b[0;32m-> 1759\u001b[0m map_projection \u001b[38;5;241m=\u001b[39m \u001b[43mLowerThresholdOrthographic\u001b[49m\u001b[43m(\u001b[49m\n\u001b[1;32m   1760\u001b[0m \u001b[43m    \u001b[49m\u001b[43mcentral_longitude\u001b[49m\u001b[38;5;241;43m=\u001b[39;49m\u001b[43mcentral_longitude\u001b[49m\u001b[43m,\u001b[49m\u001b[43m \u001b[49m\u001b[43mcentral_latitude\u001b[49m\u001b[38;5;241;43m=\u001b[39;49m\u001b[43mcentral_latitude\u001b[49m\u001b[43m)\u001b[49m\n\u001b[1;32m   1761\u001b[0m ax \u001b[38;5;241m=\u001b[39m plt\u001b[38;5;241m.\u001b[39maxes(projection\u001b[38;5;241m=\u001b[39mmap_projection)\n\u001b[1;32m   1762\u001b[0m ax\u001b[38;5;241m.\u001b[39mset_global()\n",
      "File \u001b[0;32m~/.conda/envs/paleostats/lib/python3.10/site-packages/cartopy/crs.py:2090\u001b[0m, in \u001b[0;36mOrthographic.__init__\u001b[0;34m(self, central_longitude, central_latitude, globe)\u001b[0m\n\u001b[1;32m   2088\u001b[0m \u001b[38;5;28mself\u001b[39m\u001b[38;5;241m.\u001b[39m_x_limits \u001b[38;5;241m=\u001b[39m mins[\u001b[38;5;241m0\u001b[39m], maxs[\u001b[38;5;241m0\u001b[39m]\n\u001b[1;32m   2089\u001b[0m \u001b[38;5;28mself\u001b[39m\u001b[38;5;241m.\u001b[39m_y_limits \u001b[38;5;241m=\u001b[39m mins[\u001b[38;5;241m1\u001b[39m], maxs[\u001b[38;5;241m1\u001b[39m]\n\u001b[0;32m-> 2090\u001b[0m \u001b[38;5;28mself\u001b[39m\u001b[38;5;241m.\u001b[39mthreshold \u001b[38;5;241m=\u001b[39m np\u001b[38;5;241m.\u001b[39mdiff(\u001b[38;5;28mself\u001b[39m\u001b[38;5;241m.\u001b[39m_x_limits)[\u001b[38;5;241m0\u001b[39m] \u001b[38;5;241m*\u001b[39m \u001b[38;5;241m0.02\u001b[39m\n",
      "\u001b[0;31mAttributeError\u001b[0m: can't set attribute 'threshold'"
     ]
    },
    {
     "data": {
      "text/plain": [
       "<Figure size 720x720 with 0 Axes>"
      ]
     },
     "metadata": {},
     "output_type": "display_data"
    }
   ],
   "source": [
    "map_axis = ipmag.make_orthographic_map(central_longitude=0, central_latitude=-90, figsize=(10,10))\n",
    "\n",
    "ipmag.plot_poles_colorbar(map_axis, df_RM.RLon.tolist(), df_RM.RLat.tolist(), \n",
    "                 df_RM.a95.tolist(), df_RM.Age.tolist(),0,max_age)\n",
    "plt.title('running mean APWP (20 Myr window)');\n",
    "\n",
    "#plt.savefig(\"RM.pdf\", format=\"pdf\", bbox_inches=\"tight\")"
   ]
  },
  {
   "cell_type": "code",
   "execution_count": 13,
   "id": "d85763c6-ce90-4c03-aa8a-018b093b81d4",
   "metadata": {},
   "outputs": [
    {
     "ename": "AttributeError",
     "evalue": "can't set attribute 'threshold'",
     "output_type": "error",
     "traceback": [
      "\u001b[0;31m---------------------------------------------------------------------------\u001b[0m",
      "\u001b[0;31mAttributeError\u001b[0m                            Traceback (most recent call last)",
      "Input \u001b[0;32mIn [13]\u001b[0m, in \u001b[0;36m<cell line: 1>\u001b[0;34m()\u001b[0m\n\u001b[0;32m----> 1\u001b[0m map_axis \u001b[38;5;241m=\u001b[39m \u001b[43mipmag\u001b[49m\u001b[38;5;241;43m.\u001b[39;49m\u001b[43mmake_orthographic_map\u001b[49m\u001b[43m(\u001b[49m\u001b[43m)\u001b[49m\n",
      "File \u001b[0;32m~/.local/lib/python3.10/site-packages/pmagpy/ipmag.py:1759\u001b[0m, in \u001b[0;36mmake_orthographic_map\u001b[0;34m(central_longitude, central_latitude, figsize, add_land, land_color, land_edge_color, add_ocean, ocean_color, grid_lines, lat_grid, lon_grid)\u001b[0m\n\u001b[1;32m   1757\u001b[0m     \u001b[38;5;28;01mreturn\u001b[39;00m\n\u001b[1;32m   1758\u001b[0m fig \u001b[38;5;241m=\u001b[39m plt\u001b[38;5;241m.\u001b[39mfigure(figsize\u001b[38;5;241m=\u001b[39mfigsize)\n\u001b[0;32m-> 1759\u001b[0m map_projection \u001b[38;5;241m=\u001b[39m \u001b[43mLowerThresholdOrthographic\u001b[49m\u001b[43m(\u001b[49m\n\u001b[1;32m   1760\u001b[0m \u001b[43m    \u001b[49m\u001b[43mcentral_longitude\u001b[49m\u001b[38;5;241;43m=\u001b[39;49m\u001b[43mcentral_longitude\u001b[49m\u001b[43m,\u001b[49m\u001b[43m \u001b[49m\u001b[43mcentral_latitude\u001b[49m\u001b[38;5;241;43m=\u001b[39;49m\u001b[43mcentral_latitude\u001b[49m\u001b[43m)\u001b[49m\n\u001b[1;32m   1761\u001b[0m ax \u001b[38;5;241m=\u001b[39m plt\u001b[38;5;241m.\u001b[39maxes(projection\u001b[38;5;241m=\u001b[39mmap_projection)\n\u001b[1;32m   1762\u001b[0m ax\u001b[38;5;241m.\u001b[39mset_global()\n",
      "File \u001b[0;32m~/.conda/envs/paleostats/lib/python3.10/site-packages/cartopy/crs.py:2090\u001b[0m, in \u001b[0;36mOrthographic.__init__\u001b[0;34m(self, central_longitude, central_latitude, globe)\u001b[0m\n\u001b[1;32m   2088\u001b[0m \u001b[38;5;28mself\u001b[39m\u001b[38;5;241m.\u001b[39m_x_limits \u001b[38;5;241m=\u001b[39m mins[\u001b[38;5;241m0\u001b[39m], maxs[\u001b[38;5;241m0\u001b[39m]\n\u001b[1;32m   2089\u001b[0m \u001b[38;5;28mself\u001b[39m\u001b[38;5;241m.\u001b[39m_y_limits \u001b[38;5;241m=\u001b[39m mins[\u001b[38;5;241m1\u001b[39m], maxs[\u001b[38;5;241m1\u001b[39m]\n\u001b[0;32m-> 2090\u001b[0m \u001b[38;5;28mself\u001b[39m\u001b[38;5;241m.\u001b[39mthreshold \u001b[38;5;241m=\u001b[39m np\u001b[38;5;241m.\u001b[39mdiff(\u001b[38;5;28mself\u001b[39m\u001b[38;5;241m.\u001b[39m_x_limits)[\u001b[38;5;241m0\u001b[39m] \u001b[38;5;241m*\u001b[39m \u001b[38;5;241m0.02\u001b[39m\n",
      "\u001b[0;31mAttributeError\u001b[0m: can't set attribute 'threshold'"
     ]
    },
    {
     "data": {
      "text/plain": [
       "<Figure size 576x576 with 0 Axes>"
      ]
     },
     "metadata": {},
     "output_type": "display_data"
    }
   ],
   "source": [
    "map_axis = ipmag.make_orthographic_map()"
   ]
  },
  {
   "cell_type": "code",
   "execution_count": 14,
   "id": "881a455e-d0cd-48a8-87f5-544974fa1e9b",
   "metadata": {},
   "outputs": [
    {
     "data": {
      "text/plain": [
       "\u001b[0;31mSignature:\u001b[0m\n",
       "\u001b[0mipmag\u001b[0m\u001b[0;34m.\u001b[0m\u001b[0mmake_orthographic_map\u001b[0m\u001b[0;34m(\u001b[0m\u001b[0;34m\u001b[0m\n",
       "\u001b[0;34m\u001b[0m    \u001b[0mcentral_longitude\u001b[0m\u001b[0;34m=\u001b[0m\u001b[0;36m0\u001b[0m\u001b[0;34m,\u001b[0m\u001b[0;34m\u001b[0m\n",
       "\u001b[0;34m\u001b[0m    \u001b[0mcentral_latitude\u001b[0m\u001b[0;34m=\u001b[0m\u001b[0;36m0\u001b[0m\u001b[0;34m,\u001b[0m\u001b[0;34m\u001b[0m\n",
       "\u001b[0;34m\u001b[0m    \u001b[0mfigsize\u001b[0m\u001b[0;34m=\u001b[0m\u001b[0;34m(\u001b[0m\u001b[0;36m8\u001b[0m\u001b[0;34m,\u001b[0m \u001b[0;36m8\u001b[0m\u001b[0;34m)\u001b[0m\u001b[0;34m,\u001b[0m\u001b[0;34m\u001b[0m\n",
       "\u001b[0;34m\u001b[0m    \u001b[0madd_land\u001b[0m\u001b[0;34m=\u001b[0m\u001b[0;32mTrue\u001b[0m\u001b[0;34m,\u001b[0m\u001b[0;34m\u001b[0m\n",
       "\u001b[0;34m\u001b[0m    \u001b[0mland_color\u001b[0m\u001b[0;34m=\u001b[0m\u001b[0;34m'tan'\u001b[0m\u001b[0;34m,\u001b[0m\u001b[0;34m\u001b[0m\n",
       "\u001b[0;34m\u001b[0m    \u001b[0mland_edge_color\u001b[0m\u001b[0;34m=\u001b[0m\u001b[0;34m'black'\u001b[0m\u001b[0;34m,\u001b[0m\u001b[0;34m\u001b[0m\n",
       "\u001b[0;34m\u001b[0m    \u001b[0madd_ocean\u001b[0m\u001b[0;34m=\u001b[0m\u001b[0;32mFalse\u001b[0m\u001b[0;34m,\u001b[0m\u001b[0;34m\u001b[0m\n",
       "\u001b[0;34m\u001b[0m    \u001b[0mocean_color\u001b[0m\u001b[0;34m=\u001b[0m\u001b[0;34m'lightblue'\u001b[0m\u001b[0;34m,\u001b[0m\u001b[0;34m\u001b[0m\n",
       "\u001b[0;34m\u001b[0m    \u001b[0mgrid_lines\u001b[0m\u001b[0;34m=\u001b[0m\u001b[0;32mTrue\u001b[0m\u001b[0;34m,\u001b[0m\u001b[0;34m\u001b[0m\n",
       "\u001b[0;34m\u001b[0m    \u001b[0mlat_grid\u001b[0m\u001b[0;34m=\u001b[0m\u001b[0;34m[\u001b[0m\u001b[0;34m-\u001b[0m\u001b[0;36m80.0\u001b[0m\u001b[0;34m,\u001b[0m \u001b[0;34m-\u001b[0m\u001b[0;36m60.0\u001b[0m\u001b[0;34m,\u001b[0m \u001b[0;34m-\u001b[0m\u001b[0;36m30.0\u001b[0m\u001b[0;34m,\u001b[0m \u001b[0;36m0.0\u001b[0m\u001b[0;34m,\u001b[0m \u001b[0;36m30.0\u001b[0m\u001b[0;34m,\u001b[0m \u001b[0;36m60.0\u001b[0m\u001b[0;34m,\u001b[0m \u001b[0;36m80.0\u001b[0m\u001b[0;34m]\u001b[0m\u001b[0;34m,\u001b[0m\u001b[0;34m\u001b[0m\n",
       "\u001b[0;34m\u001b[0m    \u001b[0mlon_grid\u001b[0m\u001b[0;34m=\u001b[0m\u001b[0;34m[\u001b[0m\u001b[0;34m-\u001b[0m\u001b[0;36m180.0\u001b[0m\u001b[0;34m,\u001b[0m \u001b[0;34m-\u001b[0m\u001b[0;36m150.0\u001b[0m\u001b[0;34m,\u001b[0m \u001b[0;34m-\u001b[0m\u001b[0;36m120.0\u001b[0m\u001b[0;34m,\u001b[0m \u001b[0;34m-\u001b[0m\u001b[0;36m90.0\u001b[0m\u001b[0;34m,\u001b[0m \u001b[0;34m-\u001b[0m\u001b[0;36m60.0\u001b[0m\u001b[0;34m,\u001b[0m \u001b[0;34m-\u001b[0m\u001b[0;36m30.0\u001b[0m\u001b[0;34m,\u001b[0m \u001b[0;36m0.0\u001b[0m\u001b[0;34m,\u001b[0m \u001b[0;36m30.0\u001b[0m\u001b[0;34m,\u001b[0m \u001b[0;36m60.0\u001b[0m\u001b[0;34m,\u001b[0m \u001b[0;36m90.0\u001b[0m\u001b[0;34m,\u001b[0m \u001b[0;36m120.0\u001b[0m\u001b[0;34m,\u001b[0m \u001b[0;36m150.0\u001b[0m\u001b[0;34m,\u001b[0m \u001b[0;36m180.0\u001b[0m\u001b[0;34m]\u001b[0m\u001b[0;34m,\u001b[0m\u001b[0;34m\u001b[0m\n",
       "\u001b[0;34m\u001b[0m\u001b[0;34m)\u001b[0m\u001b[0;34m\u001b[0m\u001b[0;34m\u001b[0m\u001b[0m\n",
       "\u001b[0;31mDocstring:\u001b[0m\n",
       "Function creates and returns an orthographic map projection using cartopy\n",
       "\n",
       "Example\n",
       "-------\n",
       ">>> map_axis = make_orthographic_map(central_longitude=200,central_latitude=30)\n",
       "\n",
       "Optional Parameters\n",
       "-----------\n",
       "central_longitude : central longitude of projection (default is 0)\n",
       "central_latitude : central latitude of projection (default is 0)\n",
       "figsize : size of the figure (default is 8x8)\n",
       "add_land : chose whether land is plotted on map (default is true)\n",
       "land_color : specify land color (default is 'tan')\n",
       "add_ocean : chose whether land is plotted on map (default is False, change to True to plot)\n",
       "ocean_color : specify ocean color (default is 'lightblue')\n",
       "grid_lines : chose whether grid lines are plotted on map (default is true)\n",
       "lat_grid : specify the latitude grid (default is 30 degree spacing)\n",
       "lon_grid : specify the longitude grid (default is 30 degree spacing)\n",
       "\u001b[0;31mFile:\u001b[0m      ~/.local/lib/python3.10/site-packages/pmagpy/ipmag.py\n",
       "\u001b[0;31mType:\u001b[0m      function\n"
      ]
     },
     "metadata": {},
     "output_type": "display_data"
    }
   ],
   "source": [
    "ipmag.make_orthographic_map?"
   ]
  },
  {
   "cell_type": "code",
   "execution_count": null,
   "id": "6683c6e6-98d3-4a24-a295-8f13a4334ec5",
   "metadata": {},
   "outputs": [],
   "source": []
  }
 ],
 "metadata": {
  "kernelspec": {
   "display_name": "Python [conda env:.conda-paleostats]",
   "language": "python",
   "name": "conda-env-.conda-paleostats-py"
  },
  "language_info": {
   "codemirror_mode": {
    "name": "ipython",
    "version": 3
   },
   "file_extension": ".py",
   "mimetype": "text/x-python",
   "name": "python",
   "nbconvert_exporter": "python",
   "pygments_lexer": "ipython3",
   "version": "3.10.2"
  }
 },
 "nbformat": 4,
 "nbformat_minor": 5
}
