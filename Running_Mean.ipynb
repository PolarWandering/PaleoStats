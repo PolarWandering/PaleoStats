{
 "cells": [
  {
   "cell_type": "markdown",
   "id": "5cc8696d-29c9-426a-a701-f1679bdad8d8",
   "metadata": {},
   "source": [
    "# Running Mean with Smooth Differentials\n",
    "\n",
    "We want to find a smoothing for the aparent polar wander path with the following properties:\n",
    "\n",
    "1. It is differentible with respect to time and allow us to analytically compute the derivatives\n",
    "1. Accounts for spatial uncertanty\n",
    "1. Accounts for temporal uncertanty\n",
    "1. It is restricted to lie in the sphere\n",
    "1. Allows for uncertanty quantification of the curve itself\n",
    "\n",
    "The classical running mean with fixed temporal window has the incovenient of not being differentiable, which leads to non-smooth curves that try to approximate the running mean. One alternative is to change this window for a smooth window. \n",
    "\n",
    "## Mathematical setup\n",
    "\n",
    "Consider an orderer sequence of paleomagnetic poles $p_1, p_2, \\ldots , p_N \\in S^2$, with $S^2$ the sphere, with associated measured times $t_1, t_2, \\ldots, t_N$. Since we are just going to consider points in the sphere, we will mostly use the geodesic length as distance between points in the sphere, also know as Great-circle or Haversine distance when points are specified by their latitude and longitude:\n",
    "$$\n",
    "d(p, q) = \\cos^{-1}(p^T q)\n",
    "$$"
   ]
  },
  {
   "cell_type": "markdown",
   "id": "28ea7618-9859-4b27-a691-d760247d2a20",
   "metadata": {},
   "source": [
    "## Running mean\n",
    "\n",
    "At any given time $t$, the running mean is defined by solving the following optimization problem:\n",
    "$$\n",
    "p(t) = \\text{argmin}_{p \\in S^2} \\sum_{i=1}^N w(|t - t_i|) \\, d(p, p_i)^2,\n",
    "$$\n",
    "where $w(\\cdot)$ is the averaged window with the properties of being compact supported, differentiable and symmetric."
   ]
  },
  {
   "cell_type": "markdown",
   "id": "2d81347e-88dd-43ab-9e20-8ba966da1e83",
   "metadata": {},
   "source": [
    "### Including temporal uncertanty\n",
    "\n",
    "In the previous example we just consider the case where $t_i$ is known. However, in practice we may want to include a confidence interval for the time variable or measure of uncertaty. For this case, we need to assume some probabilistic model about how the data was generated. One way of doing this is assuming that times are samples from a probabilistic distribition, $t_i \\sim T_i$ independent, and then we want to minimize \n",
    "$$\n",
    "p(t) = \\text{argmin}_{p \\in S^2} \\mathbb{E} \\left [ \\sum_{i=1}^N w(|t - T_i|) \\, d(p, p_i)^2 \\right ],\n",
    "$$\n",
    "and see what correction we should apply to the weights. One example is to assume normal distributions $T_i = N(\\tau_i, \\sigma_i)$."
   ]
  },
  {
   "cell_type": "code",
   "execution_count": null,
   "id": "2ccba78e-e18d-4483-9ef3-9675f93b9939",
   "metadata": {},
   "outputs": [],
   "source": []
  }
 ],
 "metadata": {
  "kernelspec": {
   "display_name": "Python 3 (ipykernel)",
   "language": "python",
   "name": "python3"
  },
  "language_info": {
   "codemirror_mode": {
    "name": "ipython",
    "version": 3
   },
   "file_extension": ".py",
   "mimetype": "text/x-python",
   "name": "python",
   "nbconvert_exporter": "python",
   "pygments_lexer": "ipython3",
   "version": "3.9.10"
  }
 },
 "nbformat": 4,
 "nbformat_minor": 5
}
